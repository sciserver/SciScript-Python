{
 "cells": [
  {
   "cell_type": "code",
   "execution_count": 9,
   "metadata": {},
   "outputs": [],
   "source": [
    "f = open('line dictionary','r')"
   ]
  },
  {
   "cell_type": "code",
   "execution_count": 10,
   "metadata": {},
   "outputs": [],
   "source": [
    "lineList = f.readlines()"
   ]
  },
  {
   "cell_type": "code",
   "execution_count": 19,
   "metadata": {},
   "outputs": [
    {
     "name": "stdout",
     "output_type": "stream",
     "text": [
      "['ae', 'Ly_alpha', '1215.67', '1215.08']\n",
      "['a', 'NV', '1240.81', '1240.22']\n",
      "['a', 'OI', '1305.53', '1304.95']\n",
      "['a', 'CII', '1335.31', '1334.73']\n",
      "['ae', 'SiIV+OIV', '1399.80', '1399.22']\n",
      "['ae', 'CIV', '1549.48', '1548.90']\n",
      "['ae', 'HeII', '1640.40', '1639.81']\n",
      "['e', 'OIII', '1665.85', '1665.26']\n",
      "['a', 'AlIII', '1857.40', '1856.78']\n",
      "['e', 'CIII', '1908.73', '1908.10']\n",
      "['a', 'CII', '2326.00', '2325.29']\n",
      "['e', 'NeIV', '2439.50', '2438.76']\n",
      "['ae', 'MgII', '2799.12', '2798.29']\n",
      "['e', 'NeV', '3346.79', '3345.83']\n",
      "['e', 'NeV', '3426.85', '3425.87']\n",
      "['e', '[OII]', '3727.09', '3726.03']\n",
      "['e', '[OII]', '3729.88', '3728.81']\n",
      "['ea', 'Htheta', '3798.98', '3797.90']\n",
      "['ea', 'Heta', '3836.47', '3835.38']\n",
      "['a', 'CaII-K', '3934.78', '3933.66']\n",
      "['a', 'CaII-H', '3969.59', '3968.46']\n",
      "['ae', 'Hdelta', '4102.89', '4101.73']\n",
      "['a', 'G-band', '4305.61', '4304.40']\n",
      "['ae', 'Hgamma', '4341.68', '4340.46']\n",
      "['e', '[OIII]', '4364.44', '4363.21']\n",
      "['ae', 'Hbeta', '4862.68', '4861.32']\n",
      "['e', '[OIII]', '4960.29', '4958.91']\n",
      "['e', '[OIII]', '5008.24', '5006.84']\n",
      "['a', 'Mgb', '5176.70', '5175.26']\n",
      "['a', 'Na', '5895.60', '5893.96']\n",
      "['e', '[OI]', '6302.05', '6300.30']\n",
      "['e', '[NII]', '6549.86', '6548.05']\n",
      "['ae', 'Halpha', '6564.61', '6562.79']\n",
      "['e', '[NII]', '6585.27', '6583.45']\n",
      "['a', 'Li', '6707.89', '6706.04']\n",
      "['e', '[SII]', '6718.29', '6716.43']\n",
      "['e', '[SII]', '6732.67', '6730.81']\n",
      "['a', 'CaII', '8500.36', '8498.02']\n",
      "['a', 'CaII', '8544.44', '8542.09']\n",
      "['a', 'CaII', '8664.52', '8662.13']\n"
     ]
    }
   ],
   "source": [
    "lineDict = {}\n",
    "for item in lineList:\n",
    "    listTemp =item.split()\n",
    "    print(listTemp)\n",
    "    lineDict[listTemp[1]]=listTemp[0]\n",
    "    "
   ]
  },
  {
   "cell_type": "code",
   "execution_count": 23,
   "metadata": {},
   "outputs": [
    {
     "data": {
      "text/plain": [
       "31"
      ]
     },
     "execution_count": 23,
     "metadata": {},
     "output_type": "execute_result"
    }
   ],
   "source": [
    "len(lineDict.keys())"
   ]
  },
  {
   "cell_type": "code",
   "execution_count": 24,
   "metadata": {},
   "outputs": [
    {
     "data": {
      "text/plain": [
       "{'AlIII': 'a',\n",
       " 'CII': 'a',\n",
       " 'CIII': 'e',\n",
       " 'CIV': 'ae',\n",
       " 'CaII': 'a',\n",
       " 'CaII-H': 'a',\n",
       " 'CaII-K': 'a',\n",
       " 'G-band': 'a',\n",
       " 'Halpha': 'ae',\n",
       " 'Hbeta': 'ae',\n",
       " 'Hdelta': 'ae',\n",
       " 'HeII': 'ae',\n",
       " 'Heta': 'ea',\n",
       " 'Hgamma': 'ae',\n",
       " 'Htheta': 'ea',\n",
       " 'Li': 'a',\n",
       " 'Ly_alpha': 'ae',\n",
       " 'MgII': 'ae',\n",
       " 'Mgb': 'a',\n",
       " 'NV': 'a',\n",
       " 'Na': 'a',\n",
       " 'NeIV': 'e',\n",
       " 'NeV': 'e',\n",
       " 'OI': 'a',\n",
       " 'OIII': 'e',\n",
       " 'SiIV+OIV': 'ae',\n",
       " '[NII]': 'e',\n",
       " '[OIII]': 'e',\n",
       " '[OII]': 'e',\n",
       " '[OI]': 'e',\n",
       " '[SII]': 'e'}"
      ]
     },
     "execution_count": 24,
     "metadata": {},
     "output_type": "execute_result"
    }
   ],
   "source": [
    "lineDict"
   ]
  },
  {
   "cell_type": "code",
   "execution_count": null,
   "metadata": {},
   "outputs": [],
   "source": []
  }
 ],
 "metadata": {
  "kernelspec": {
   "display_name": "Python 3",
   "language": "python",
   "name": "python3"
  },
  "language_info": {
   "codemirror_mode": {
    "name": "ipython",
    "version": 3
   },
   "file_extension": ".py",
   "mimetype": "text/x-python",
   "name": "python",
   "nbconvert_exporter": "python",
   "pygments_lexer": "ipython3",
   "version": "3.5.4"
  }
 },
 "nbformat": 4,
 "nbformat_minor": 2
}

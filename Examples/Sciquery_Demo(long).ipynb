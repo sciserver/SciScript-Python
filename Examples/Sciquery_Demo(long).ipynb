{
 "cells": [
  {
   "cell_type": "code",
   "execution_count": null,
   "metadata": {
    "tags": []
   },
   "outputs": [],
   "source": [
    "from SciServer.SciQuery import *"
   ]
  },
  {
   "cell_type": "markdown",
   "metadata": {},
   "source": [
    "## 1) Instantiation: different ways"
   ]
  },
  {
   "cell_type": "markdown",
   "metadata": {},
   "source": [
    "#### 1.0 Defining name of database and domain, for future queries"
   ]
  },
  {
   "cell_type": "code",
   "execution_count": null,
   "metadata": {},
   "outputs": [],
   "source": [
    "database_name = 'BestDR16'\n",
    "rdb_compute_domain_name = 'IDIES-SQLServer (Short queue)'"
   ]
  },
  {
   "cell_type": "markdown",
   "metadata": {},
   "source": [
    "#### 1.1 Creating instance with default values/settings:"
   ]
  },
  {
   "cell_type": "code",
   "execution_count": null,
   "metadata": {
    "tags": []
   },
   "outputs": [],
   "source": [
    "sq = SciQuery()"
   ]
  },
  {
   "cell_type": "markdown",
   "metadata": {},
   "source": [
    "#### 1.2 Ways of looking at preset instance values:"
   ]
  },
  {
   "cell_type": "code",
   "execution_count": null,
   "metadata": {
    "tags": []
   },
   "outputs": [],
   "source": [
    "print(f\"Default Domian = {sq.rdb_compute_domain}\" )\n",
    "print(f\"Default Domian = {sq.get_rdb_compute_domain()}\" )\n",
    "print(f\"Default Database = {sq.database}\" )\n",
    "print(f\"Default Database = {sq.get_database()}\" )\n",
    "print(f\"Default Output = {sq.outputs}\" )\n",
    "print(f\"Default Output = {sq.get_outputs()}\" )\n",
    "print(f\"Default File service = {sq.file_service.get('name')}\" )\n",
    "print(f\"Default File service = {sq.get_file_service().get('name')}\" )"
   ]
  },
  {
   "cell_type": "markdown",
   "metadata": {},
   "source": [
    "#### 1.3 Several ways of setting values:"
   ]
  },
  {
   "cell_type": "markdown",
   "metadata": {},
   "source": [
    "##### 1.3.1 By name"
   ]
  },
  {
   "cell_type": "code",
   "execution_count": null,
   "metadata": {
    "tags": []
   },
   "outputs": [],
   "source": [
    "sq.rdb_compute_domain = rdb_compute_domain_name\n",
    "sq.database = database_name"
   ]
  },
  {
   "cell_type": "markdown",
   "metadata": {},
   "source": [
    "##### 1.3.2 By object"
   ]
  },
  {
   "cell_type": "code",
   "execution_count": null,
   "metadata": {
    "tags": []
   },
   "outputs": [],
   "source": [
    "rdb_compute_domain = sq.get_rdb_compute_domain(rdb_compute_domain_name)\n",
    "sq.rdb_compute_domain = rdb_compute_domain\n",
    "database = sq.get_database(database_name)\n",
    "sq.database = database"
   ]
  },
  {
   "cell_type": "markdown",
   "metadata": {},
   "source": [
    "##### 1.3.3 Altogether by name"
   ]
  },
  {
   "cell_type": "code",
   "execution_count": null,
   "metadata": {
    "tags": []
   },
   "outputs": [],
   "source": [
    "sq = SciQuery()\n",
    "sq.set(rdb_compute_domain_name, database_name)"
   ]
  },
  {
   "cell_type": "markdown",
   "metadata": {},
   "source": [
    "##### 1.3.4 Altogether by object"
   ]
  },
  {
   "cell_type": "code",
   "execution_count": null,
   "metadata": {
    "tags": []
   },
   "outputs": [],
   "source": [
    "sq = SciQuery()\n",
    "sq.set(rdb_compute_domain, database)"
   ]
  },
  {
   "cell_type": "markdown",
   "metadata": {},
   "source": [
    "##### 1.3.5 During instantiation, by name"
   ]
  },
  {
   "cell_type": "code",
   "execution_count": null,
   "metadata": {
    "tags": []
   },
   "outputs": [],
   "source": [
    "sq = SciQuery(rdb_compute_domain_name, database_name)"
   ]
  },
  {
   "cell_type": "markdown",
   "metadata": {},
   "source": [
    "##### 1.3.6 During instantiation, by object"
   ]
  },
  {
   "cell_type": "code",
   "execution_count": null,
   "metadata": {
    "tags": []
   },
   "outputs": [],
   "source": [
    "sq = SciQuery(rdb_compute_domain, database)"
   ]
  },
  {
   "cell_type": "markdown",
   "metadata": {},
   "source": [
    "#### 1.4 Updating the information stored in SciQuery if there are external changes, like being allowed to query new domains/databases:"
   ]
  },
  {
   "cell_type": "code",
   "execution_count": null,
   "metadata": {
    "tags": []
   },
   "outputs": [],
   "source": [
    "sq.refresh()\n",
    "print(sq.refresh_date)"
   ]
  },
  {
   "cell_type": "markdown",
   "metadata": {},
   "source": [
    "## 2) Exploring stored objects and asociated metadata"
   ]
  },
  {
   "cell_type": "code",
   "execution_count": null,
   "metadata": {
    "tags": []
   },
   "outputs": [],
   "source": [
    "sq.get_rdb_compute_domain_names()"
   ]
  },
  {
   "cell_type": "code",
   "execution_count": null,
   "metadata": {
    "tags": []
   },
   "outputs": [],
   "source": [
    "sq.get_rdb_compute_domains_metadata()"
   ]
  },
  {
   "cell_type": "code",
   "execution_count": null,
   "metadata": {
    "tags": []
   },
   "outputs": [],
   "source": [
    "sq.get_rdb_compute_domains_metadata(do_include_databases=True)"
   ]
  },
  {
   "cell_type": "code",
   "execution_count": null,
   "metadata": {
    "tags": []
   },
   "outputs": [],
   "source": [
    "SciQuery.get_rdb_compute_domains()"
   ]
  },
  {
   "cell_type": "code",
   "execution_count": null,
   "metadata": {
    "tags": []
   },
   "outputs": [],
   "source": [
    "sq.rdb_compute_domains"
   ]
  },
  {
   "cell_type": "code",
   "execution_count": null,
   "metadata": {
    "tags": []
   },
   "outputs": [],
   "source": [
    "rdb_compute_domain = sq.get_rdb_compute_domain(rdb_compute_domain_name)\n",
    "rdb_compute_domain"
   ]
  },
  {
   "cell_type": "code",
   "execution_count": null,
   "metadata": {
    "tags": []
   },
   "outputs": [],
   "source": [
    "rdb_compute_domain.get_metadata()"
   ]
  },
  {
   "cell_type": "code",
   "execution_count": null,
   "metadata": {
    "tags": []
   },
   "outputs": [],
   "source": [
    "rdb_compute_domain.get_database_names()"
   ]
  },
  {
   "cell_type": "code",
   "execution_count": null,
   "metadata": {
    "tags": []
   },
   "outputs": [],
   "source": [
    "rdb_compute_domain.get_databases_metadata()"
   ]
  },
  {
   "cell_type": "code",
   "execution_count": null,
   "metadata": {
    "tags": []
   },
   "outputs": [],
   "source": [
    "rdb_compute_domain.databases"
   ]
  },
  {
   "cell_type": "code",
   "execution_count": null,
   "metadata": {
    "tags": []
   },
   "outputs": [],
   "source": [
    "database = rdb_compute_domain.get_database(database_name)\n",
    "database"
   ]
  },
  {
   "cell_type": "code",
   "execution_count": null,
   "metadata": {
    "tags": []
   },
   "outputs": [],
   "source": [
    "database.get_metadata()"
   ]
  },
  {
   "cell_type": "markdown",
   "metadata": {},
   "source": [
    "## 3) Detailed Database Metadata"
   ]
  },
  {
   "cell_type": "code",
   "execution_count": null,
   "metadata": {
    "tags": []
   },
   "outputs": [],
   "source": [
    "sq.rdb_compute_domain = rdb_compute_domain_name\n",
    "sq.database = database_name"
   ]
  },
  {
   "cell_type": "code",
   "execution_count": null,
   "metadata": {
    "tags": []
   },
   "outputs": [],
   "source": [
    "table_names = sq.get_table_names()\n",
    "#table_names = sq.get_table_names(database, rdb_compute_domain)\n",
    "print(table_names)"
   ]
  },
  {
   "cell_type": "code",
   "execution_count": null,
   "metadata": {
    "tags": []
   },
   "outputs": [],
   "source": [
    "sq.get_tables_metadata()\n",
    "# or \n",
    "sq.get_tables_metadata(database, rdb_compute_domain)"
   ]
  },
  {
   "cell_type": "code",
   "execution_count": null,
   "metadata": {},
   "outputs": [],
   "source": [
    "table_name = table_names[0]\n",
    "print(sq.get_column_names(table_name))\n",
    "# or \n",
    "print(sq.get_column_names(table_name, database, rdb_compute_domain))"
   ]
  },
  {
   "cell_type": "code",
   "execution_count": null,
   "metadata": {},
   "outputs": [],
   "source": [
    "sq.get_columns_metadata(table_name)\n",
    "# or \n",
    "sq.get_columns_metadata(table_name, database, rdb_compute_domain)"
   ]
  },
  {
   "cell_type": "code",
   "execution_count": null,
   "metadata": {},
   "outputs": [],
   "source": [
    "print(sq.get_constraint_names(table_name))\n",
    "# or \n",
    "print(sq.get_constraint_names(table_name, database, rdb_compute_domain))"
   ]
  },
  {
   "cell_type": "code",
   "execution_count": null,
   "metadata": {},
   "outputs": [],
   "source": [
    "sq.get_constraints_metadata(table_name)\n",
    "# or \n",
    "sq.get_constraints_metadata(table_name, database, rdb_compute_domain)"
   ]
  },
  {
   "cell_type": "code",
   "execution_count": null,
   "metadata": {},
   "outputs": [],
   "source": [
    "routine_names = sq.get_routine_names()\n",
    "# or \n",
    "routine_names = sq.get_routine_names(database, rdb_compute_domain)\n",
    "print(routine_names)"
   ]
  },
  {
   "cell_type": "code",
   "execution_count": null,
   "metadata": {},
   "outputs": [],
   "source": [
    "sq.get_routines_metadata()\n",
    "# or \n",
    "sq.get_routines_metadata(database, rdb_compute_domain)"
   ]
  },
  {
   "cell_type": "code",
   "execution_count": null,
   "metadata": {},
   "outputs": [],
   "source": [
    "routine_name = routine_names[0]\n",
    "print(sq.get_routine_parameter_names(routine_name))\n",
    "# or \n",
    "print(sq.get_routine_parameter_names(routine_name, database, rdb_compute_domain))"
   ]
  },
  {
   "cell_type": "code",
   "execution_count": null,
   "metadata": {},
   "outputs": [],
   "source": [
    "sq.get_routine_parameters_metadata(routine_name)\n",
    "# or \n",
    "sq.get_routine_parameters_metadata(routine_name, database, rdb_compute_domain)"
   ]
  },
  {
   "cell_type": "code",
   "execution_count": null,
   "metadata": {},
   "outputs": [],
   "source": [
    "print(sq.get_view_names())\n",
    "# or \n",
    "print(sq.get_view_names(database, rdb_compute_domain))"
   ]
  },
  {
   "cell_type": "code",
   "execution_count": null,
   "metadata": {},
   "outputs": [],
   "source": [
    "sq.get_views_metadata()\n",
    "# or \n",
    "sq.get_views_metadata(database, rdb_compute_domain)"
   ]
  },
  {
   "cell_type": "markdown",
   "metadata": {},
   "source": [
    "## 4) Executing Synchronous Queries to Databases "
   ]
  },
  {
   "cell_type": "markdown",
   "metadata": {},
   "source": [
    "#### 4.1 Setting database and compute domain"
   ]
  },
  {
   "cell_type": "code",
   "execution_count": null,
   "metadata": {
    "tags": []
   },
   "outputs": [],
   "source": [
    "sq.set(database=database_name, rdb_compute_domain=rdb_compute_domain_name)"
   ]
  },
  {
   "cell_type": "markdown",
   "metadata": {},
   "source": [
    "#### 4.2 Defining Single SQL Query"
   ]
  },
  {
   "cell_type": "code",
   "execution_count": null,
   "metadata": {
    "tags": []
   },
   "outputs": [],
   "source": [
    "sql_query = \"SELECT TOP 2 specObjID, ra, dec, z FROM specobj\""
   ]
  },
  {
   "cell_type": "markdown",
   "metadata": {},
   "source": [
    "#### 4.3 Getting query result as pandas dataframe"
   ]
  },
  {
   "cell_type": "code",
   "execution_count": null,
   "metadata": {
    "tags": []
   },
   "outputs": [],
   "source": [
    "%%time\n",
    "\n",
    "df = sq.execute_query(sql_query)\n",
    "# or\n",
    "#df = sq.execute_query(sql_query, database_name, rdb_compute_domain=rdb_compute_domain_name)\n",
    "df"
   ]
  },
  {
   "cell_type": "markdown",
   "metadata": {},
   "source": [
    "## 5) Submitting query as a batch job"
   ]
  },
  {
   "cell_type": "markdown",
   "metadata": {},
   "source": [
    "#### 5.1 Using default JSON file output"
   ]
  },
  {
   "cell_type": "code",
   "execution_count": null,
   "metadata": {
    "tags": []
   },
   "outputs": [],
   "source": [
    "jobid = sq.submit_query_job(sql_query=sql_query)"
   ]
  },
  {
   "cell_type": "markdown",
   "metadata": {},
   "source": [
    "#### 5.2 Getting current job status"
   ]
  },
  {
   "cell_type": "code",
   "execution_count": null,
   "metadata": {
    "tags": []
   },
   "outputs": [],
   "source": [
    "sq.get_job_status(jobid)"
   ]
  },
  {
   "cell_type": "markdown",
   "metadata": {},
   "source": [
    "#### 5.3 Waiting for job to finish before getting it back"
   ]
  },
  {
   "cell_type": "code",
   "execution_count": null,
   "metadata": {
    "tags": []
   },
   "outputs": [],
   "source": [
    "job = sq.wait_for_job(jobid, verbose=True)\n",
    "job\n",
    "\n",
    "# or after job is "
   ]
  },
  {
   "cell_type": "markdown",
   "metadata": {},
   "source": [
    "#### 5.4 Getting job object"
   ]
  },
  {
   "cell_type": "code",
   "execution_count": null,
   "metadata": {
    "tags": []
   },
   "outputs": [],
   "source": [
    "job = sq.get_job(jobid)\n",
    "job"
   ]
  },
  {
   "cell_type": "markdown",
   "metadata": {},
   "source": [
    "#### 5.5 Getting list of submitted jobs"
   ]
  },
  {
   "cell_type": "code",
   "execution_count": null,
   "metadata": {
    "tags": []
   },
   "outputs": [],
   "source": [
    "sq.get_jobs_list(top = 2)"
   ]
  },
  {
   "cell_type": "markdown",
   "metadata": {},
   "source": [
    "#### 5.6 Getting job object and checking its properties"
   ]
  },
  {
   "cell_type": "code",
   "execution_count": null,
   "metadata": {
    "tags": []
   },
   "outputs": [],
   "source": [
    "job = sq.get_job(jobid)"
   ]
  },
  {
   "cell_type": "code",
   "execution_count": null,
   "metadata": {
    "tags": []
   },
   "outputs": [],
   "source": [
    "job.get_job_status()"
   ]
  },
  {
   "cell_type": "code",
   "execution_count": null,
   "metadata": {
    "tags": []
   },
   "outputs": [],
   "source": [
    "job.get_metadata()"
   ]
  },
  {
   "cell_type": "code",
   "execution_count": null,
   "metadata": {
    "tags": []
   },
   "outputs": [],
   "source": [
    "outputs = job.outputs\n",
    "outputs"
   ]
  },
  {
   "cell_type": "code",
   "execution_count": null,
   "metadata": {
    "tags": []
   },
   "outputs": [],
   "source": [
    "job.get_output_path()\n",
    "# or \n",
    "job.get_output_path(0)\n",
    "# or\n",
    "job.get_output_path(job.outputs[0])"
   ]
  },
  {
   "cell_type": "code",
   "execution_count": null,
   "metadata": {
    "tags": []
   },
   "outputs": [],
   "source": [
    "job.get_json_output()\n",
    "# or\n",
    "job.get_json_output(0)"
   ]
  },
  {
   "cell_type": "code",
   "execution_count": null,
   "metadata": {
    "tags": []
   },
   "outputs": [],
   "source": [
    "job.get_dataframe_from_output(0)"
   ]
  },
  {
   "cell_type": "markdown",
   "metadata": {},
   "source": [
    "#### 5.7 Cancelling job"
   ]
  },
  {
   "cell_type": "code",
   "execution_count": null,
   "metadata": {
    "tags": []
   },
   "outputs": [],
   "source": [
    "jobid = sq.submit_query_job(sql_query=sql_query)\n",
    "sq.cancel_job(jobid)\n",
    "\n",
    "# or \n",
    "\n",
    "#jobid = sq.submit_query_job(sql_query=sql_query)\n",
    "#job = sq.get_job(jobid)\n",
    "#job.cancel()\n",
    "\n",
    "job = sq.wait_for_job(jobid)\n",
    "print(job.status_string)\n",
    "print(sq.get_job_status(jobid))"
   ]
  },
  {
   "cell_type": "code",
   "execution_count": null,
   "metadata": {
    "tags": []
   },
   "outputs": [],
   "source": [
    "results_base_path = '/home/idies/workspace/Temporary/{}/scratch/sciqueryjobs/dir/'.format(SciQuery.get_user().userName)\n",
    "# or\n",
    "results_base_path = FileOutput.build_file_base_path(top_volume=\"Temporary\", \n",
    "                                                    user_volume=\"scratch\",\n",
    "                                                    user_volume_owner_name=SciQuery.get_user().userName, \n",
    "                                                    relative_path=\"sciqueryjobs/dir/\", \n",
    "                                                    add_date_ending=False)\n",
    "results_base_path"
   ]
  },
  {
   "cell_type": "code",
   "execution_count": null,
   "metadata": {
    "tags": []
   },
   "outputs": [],
   "source": [
    "name = results_base_path + \"result.json\"\n",
    "output = FileOutput(name=name, output_type=OutputType.FILE_JSON, statement_indexes=1)\n",
    "print(output.file)\n",
    "print(output.file_base_path)\n",
    "print(output.path)\n",
    "print(output.get_path())"
   ]
  },
  {
   "cell_type": "code",
   "execution_count": null,
   "metadata": {
    "tags": []
   },
   "outputs": [],
   "source": [
    "jobid = sq.submit_query_job(sql_query=sql_query, outputs=output)\n",
    "\n",
    "# or \n",
    "#jobid = sq.submit_query_job(sql_query=sql_query, results_base_path=results_base_path)\n",
    "\n",
    "# or \n",
    "#sq.set_results_base_path(results_base_path)\n",
    "#jobid = sq.submit_query_job(sql_query=sql_query)\n",
    "\n",
    "job = sq.wait_for_job(jobid, verbose=True)"
   ]
  },
  {
   "cell_type": "code",
   "execution_count": null,
   "metadata": {
    "tags": []
   },
   "outputs": [],
   "source": [
    "job.outputs[0].get_path()"
   ]
  },
  {
   "cell_type": "code",
   "execution_count": null,
   "metadata": {
    "tags": []
   },
   "outputs": [],
   "source": [
    "out = job.outputs[0]\n",
    "out"
   ]
  },
  {
   "cell_type": "code",
   "execution_count": null,
   "metadata": {
    "tags": []
   },
   "outputs": [],
   "source": [
    "job.get_dataframe_from_output(0)"
   ]
  },
  {
   "cell_type": "code",
   "execution_count": null,
   "metadata": {
    "tags": []
   },
   "outputs": [],
   "source": [
    "job.get_json_output(0)"
   ]
  },
  {
   "cell_type": "markdown",
   "metadata": {},
   "source": [
    "#### 5.9 Submitting query as batch job, with output to table in mydb database"
   ]
  },
  {
   "cell_type": "code",
   "execution_count": null,
   "metadata": {
    "tags": []
   },
   "outputs": [],
   "source": [
    "sql_query = \"SELECT TOP 2 specObjID, ra, dec, z FROM specobj\""
   ]
  },
  {
   "cell_type": "code",
   "execution_count": null,
   "metadata": {
    "tags": []
   },
   "outputs": [],
   "source": [
    "output_table = \"results12e\"\n",
    "output_rdb_compute_domain_name = rdb_compute_domain_name"
   ]
  },
  {
   "cell_type": "code",
   "execution_count": null,
   "metadata": {
    "tags": []
   },
   "outputs": [],
   "source": [
    "# setting output database directly to mydb:\n",
    "\n",
    "output_database_name = SciQuery.get_mydb_name() \n",
    "print(output_database_name)\n",
    "\n",
    "# verifying that it is fact a database contained in the output rdb compute domian:\n",
    "\n",
    "print(output_database_name in sq.get_database_names(output_rdb_compute_domain_name))\n",
    "print(sq.get_rdb_compute_domain(output_rdb_compute_domain_name).get_database(output_database_name).name)\n",
    "\n",
    "# or verifying that it is fact the default database in the output rdb compute domian:\n",
    "\n",
    "output_database_name = sq.get_rdb_compute_domain(output_rdb_compute_domain_name).get_default_database().name\n",
    "print(output_database_name)"
   ]
  },
  {
   "cell_type": "code",
   "execution_count": null,
   "metadata": {
    "tags": []
   },
   "outputs": [],
   "source": [
    "output = DatabaseTableOutput(table=output_table, database=output_database_name, rdb_compute_domain=output_rdb_compute_domain_name)\n",
    "output"
   ]
  },
  {
   "cell_type": "code",
   "execution_count": null,
   "metadata": {
    "tags": []
   },
   "outputs": [],
   "source": [
    "jobid = sq.submit_query_job(sql_query=sql_query, outputs=output)\n",
    "job = sq.wait_for_job(jobid)"
   ]
  },
  {
   "cell_type": "code",
   "execution_count": null,
   "metadata": {
    "tags": []
   },
   "outputs": [],
   "source": [
    "print(job.message_list)\n",
    "print(job.targets)\n",
    "job.get_metadata()"
   ]
  },
  {
   "cell_type": "code",
   "execution_count": null,
   "metadata": {
    "tags": []
   },
   "outputs": [],
   "source": [
    "# looking at the contents of the output table\n",
    "\n",
    "job.get_dataframe_from_output(0)"
   ]
  },
  {
   "cell_type": "code",
   "execution_count": null,
   "metadata": {
    "tags": []
   },
   "outputs": [],
   "source": [
    "# or directly making a query to see the contents:\n",
    "\n",
    "sql_query = \"SELECT * FROM \" + output_table\n",
    "sq.execute_query(sql_query, database= output_database_name, rdb_compute_domain= output_rdb_compute_domain_name)"
   ]
  },
  {
   "cell_type": "markdown",
   "metadata": {},
   "source": [
    "#### 5.10 Submitting a multi-query sql statement as a batch job, with multiple outputs"
   ]
  },
  {
   "cell_type": "code",
   "execution_count": null,
   "metadata": {
    "tags": []
   },
   "outputs": [],
   "source": [
    "sql_query = \"SELECT TOP 2 specObjID, ra,dec, z FROM specobj; SELECT TOP 2 specobjid, petromag_u, petromag_r FROM specphoto;\"\n",
    "job_alias = \"multi-query\""
   ]
  },
  {
   "cell_type": "code",
   "execution_count": null,
   "metadata": {
    "tags": []
   },
   "outputs": [],
   "source": [
    "out1 = FileOutput(name=\"query1.json\", output_type=OutputType.FILE_JSON, statement_indexes=1)\n",
    "out2 = FileOutput(name=\"query2.json\", output_type=OutputType.FILE_JSON, statement_indexes=2)\n",
    "out3 = FileOutput(name=\"query12.json\", output_type=OutputType.FILE_JSON, statement_indexes=[1,2])\n",
    "\n",
    "outputs = Outputs(out1, out2, out3) \n",
    "# or\n",
    "outputs = Outputs([out1, out2, out3])"
   ]
  },
  {
   "cell_type": "code",
   "execution_count": null,
   "metadata": {
    "tags": []
   },
   "outputs": [],
   "source": [
    "results_base_path = '/home/idies/workspace/Temporary/{}/scratch/sciqueryjobs/'.format(SciQuery.get_user().userName)\n",
    "# or\n",
    "sq.results_base_path = results_base_path"
   ]
  },
  {
   "cell_type": "code",
   "execution_count": null,
   "metadata": {
    "tags": []
   },
   "outputs": [],
   "source": [
    "jobid = sq.submit_query_job(sql_query=sql_query, outputs=outputs, results_base_path=results_base_path, job_alias=job_alias)\n",
    "job = sq.wait_for_job(jobid)"
   ]
  },
  {
   "cell_type": "code",
   "execution_count": null,
   "metadata": {
    "tags": []
   },
   "outputs": [],
   "source": [
    "outputs"
   ]
  },
  {
   "cell_type": "code",
   "execution_count": null,
   "metadata": {
    "tags": []
   },
   "outputs": [],
   "source": [
    "job.outputs"
   ]
  },
  {
   "cell_type": "code",
   "execution_count": null,
   "metadata": {
    "tags": []
   },
   "outputs": [],
   "source": [
    "job.get_json_output(0)\n",
    "# or\n",
    "job.get_json_output(job.outputs[0])"
   ]
  },
  {
   "cell_type": "code",
   "execution_count": null,
   "metadata": {
    "tags": []
   },
   "outputs": [],
   "source": [
    "job.get_json_output(1)\n",
    "# or\n",
    "job.get_json_output(job.outputs[1])"
   ]
  },
  {
   "cell_type": "code",
   "execution_count": null,
   "metadata": {
    "tags": []
   },
   "outputs": [],
   "source": [
    "job.get_json_output(2)\n",
    "# or\n",
    "job.get_json_output(job.outputs[2])"
   ]
  },
  {
   "cell_type": "code",
   "execution_count": null,
   "metadata": {},
   "outputs": [],
   "source": []
  }
 ],
 "metadata": {
  "kernelspec": {
   "display_name": "Python 3.8 (py38)",
   "language": "python",
   "name": "py38"
  },
  "language_info": {
   "codemirror_mode": {
    "name": "ipython",
    "version": 3
   },
   "file_extension": ".py",
   "mimetype": "text/x-python",
   "name": "python",
   "nbconvert_exporter": "python",
   "pygments_lexer": "ipython3",
   "version": "3.8.5"
  }
 },
 "nbformat": 4,
 "nbformat_minor": 4
}
